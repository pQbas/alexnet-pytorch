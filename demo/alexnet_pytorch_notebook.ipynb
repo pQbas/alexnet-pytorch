{
  "nbformat": 4,
  "nbformat_minor": 0,
  "metadata": {
    "colab": {
      "provenance": [],
      "gpuType": "T4",
      "authorship_tag": "ABX9TyPjNmhWBHlhumK1GWhqxox6",
      "include_colab_link": true
    },
    "kernelspec": {
      "name": "python3",
      "display_name": "Python 3"
    },
    "language_info": {
      "name": "python"
    },
    "accelerator": "GPU"
  },
  "cells": [
    {
      "cell_type": "markdown",
      "metadata": {
        "id": "view-in-github",
        "colab_type": "text"
      },
      "source": [
        "<a href=\"https://colab.research.google.com/github/pQbas/alexnet-pytorch/blob/main/alexnet_pytorch_colab.ipynb\" target=\"_parent\"><img src=\"https://colab.research.google.com/assets/colab-badge.svg\" alt=\"Open In Colab\"/></a>"
      ]
    },
    {
      "cell_type": "code",
      "execution_count": 1,
      "metadata": {
        "colab": {
          "base_uri": "https://localhost:8080/"
        },
        "id": "J6fvezyLeSjA",
        "outputId": "f218a4e2-7a98-41e9-8110-310bafaba70e"
      },
      "outputs": [
        {
          "output_type": "stream",
          "name": "stdout",
          "text": [
            "Looking in indexes: https://test.pypi.org/simple/\n",
            "Collecting alexnet\n",
            "  Downloading https://test-files.pythonhosted.org/packages/90/e9/ae9da4c940a93fe8071aa4e94cd19a42ddb11cff95be5c77bef8817c04bd/alexnet-0.1.11-py3-none-any.whl.metadata (3.5 kB)\n",
            "Requirement already satisfied: torch>=2.2.1 in /usr/local/lib/python3.10/dist-packages (from alexnet) (2.4.1+cu121)\n",
            "Requirement already satisfied: torchvision>=0.17.1 in /usr/local/lib/python3.10/dist-packages (from alexnet) (0.19.1+cu121)\n",
            "Requirement already satisfied: numpy in /usr/local/lib/python3.10/dist-packages (from alexnet) (1.26.4)\n",
            "Requirement already satisfied: tqdm in /usr/local/lib/python3.10/dist-packages (from alexnet) (4.66.5)\n",
            "Collecting colorlog (from alexnet)\n",
            "  Downloading https://test-files.pythonhosted.org/packages/02/5f/c132eeec09af4b8d289a2e60387335339c8f59f3b488321fed6ec52fb520/colorlog-4.6.1-py2.py3-none-any.whl.metadata (9.7 kB)\n",
            "Requirement already satisfied: rich in /usr/local/lib/python3.10/dist-packages (from alexnet) (13.9.2)\n",
            "Requirement already satisfied: filelock in /usr/local/lib/python3.10/dist-packages (from torch>=2.2.1->alexnet) (3.16.1)\n",
            "Requirement already satisfied: typing-extensions>=4.8.0 in /usr/local/lib/python3.10/dist-packages (from torch>=2.2.1->alexnet) (4.12.2)\n",
            "Requirement already satisfied: sympy in /usr/local/lib/python3.10/dist-packages (from torch>=2.2.1->alexnet) (1.13.3)\n",
            "Requirement already satisfied: networkx in /usr/local/lib/python3.10/dist-packages (from torch>=2.2.1->alexnet) (3.4.1)\n",
            "Requirement already satisfied: jinja2 in /usr/local/lib/python3.10/dist-packages (from torch>=2.2.1->alexnet) (3.1.4)\n",
            "Requirement already satisfied: fsspec in /usr/local/lib/python3.10/dist-packages (from torch>=2.2.1->alexnet) (2024.6.1)\n",
            "Requirement already satisfied: pillow!=8.3.*,>=5.3.0 in /usr/local/lib/python3.10/dist-packages (from torchvision>=0.17.1->alexnet) (10.4.0)\n",
            "Requirement already satisfied: markdown-it-py>=2.2.0 in /usr/local/lib/python3.10/dist-packages (from rich->alexnet) (3.0.0)\n",
            "Requirement already satisfied: pygments<3.0.0,>=2.13.0 in /usr/local/lib/python3.10/dist-packages (from rich->alexnet) (2.18.0)\n",
            "Requirement already satisfied: mdurl~=0.1 in /usr/local/lib/python3.10/dist-packages (from markdown-it-py>=2.2.0->rich->alexnet) (0.1.2)\n",
            "Requirement already satisfied: MarkupSafe>=2.0 in /usr/local/lib/python3.10/dist-packages (from jinja2->torch>=2.2.1->alexnet) (3.0.1)\n",
            "Requirement already satisfied: mpmath<1.4,>=1.1.0 in /usr/local/lib/python3.10/dist-packages (from sympy->torch>=2.2.1->alexnet) (1.3.0)\n",
            "Downloading https://test-files.pythonhosted.org/packages/90/e9/ae9da4c940a93fe8071aa4e94cd19a42ddb11cff95be5c77bef8817c04bd/alexnet-0.1.11-py3-none-any.whl (12 kB)\n",
            "Downloading https://test-files.pythonhosted.org/packages/02/5f/c132eeec09af4b8d289a2e60387335339c8f59f3b488321fed6ec52fb520/colorlog-4.6.1-py2.py3-none-any.whl (10.0 kB)\n",
            "Installing collected packages: colorlog, alexnet\n",
            "Successfully installed alexnet-0.1.11 colorlog-4.6.1\n"
          ]
        }
      ],
      "source": [
        "!pip install -U -i https://test.pypi.org/simple/ alexnet"
      ]
    },
    {
      "cell_type": "code",
      "source": [
        "# Import alexnet library previously installed\n",
        "import alexnet\n",
        "\n",
        "# Define the config params for all proceess\n",
        "CONFIG_PARAMS = {\n",
        "    'epochs'        : 10,\n",
        "    'learning_rate' : 0.001,\n",
        "    'batch_size'    : 16,\n",
        "    'categories'    : 10,\n",
        "    'optimizer'     : 'sgd',\n",
        "    'loss'          : 'cross-entropy',\n",
        "    'model_name'    : 'alexnet',\n",
        "    'path'          : 'runs',\n",
        "    'dataset_name'  : 'cifar10',\n",
        "}\n",
        "\n",
        "# Train the AlexNet model\n",
        "weightsPath = alexnet.train(params = CONFIG_PARAMS)"
      ],
      "metadata": {
        "colab": {
          "base_uri": "https://localhost:8080/"
        },
        "id": "c94m0vaiWccO",
        "outputId": "03cea240-43ba-4f5d-873e-a33ed4fd72a8"
      },
      "execution_count": 2,
      "outputs": [
        {
          "output_type": "stream",
          "name": "stdout",
          "text": [
            "INFO: \n",
            "========== TRAINING ==========\n",
            "\n",
            "INFO: Using provided parameters directly.\n",
            "INFO: Using device: cuda\n",
            "INFO: Training configuration | Model: alexnet | Dataset: cifar10 | Epochs: 10 | Batch size: 16 | Optimizer: sgd | Learning rate: 0.001 | Loss function: cross-entropy\n",
            "Downloading https://www.cs.toronto.edu/~kriz/cifar-10-python.tar.gz to ./data/cifar-10-python.tar.gz\n"
          ]
        },
        {
          "output_type": "stream",
          "name": "stderr",
          "text": [
            "100%|██████████| 170498071/170498071 [00:18<00:00, 9226906.63it/s]\n"
          ]
        },
        {
          "output_type": "stream",
          "name": "stdout",
          "text": [
            "Extracting ./data/cifar-10-python.tar.gz to ./data\n",
            "Files already downloaded and verified\n",
            "INFO: Dataset loaded: cifar10, Training samples: 50000, Test samples: 10000\n",
            "INFO: Dataloaders created with batch size: 16\n",
            "INFO: Model alexnet created and initialized on device cuda\n",
            "INFO: Optimizer and loss function initialized: Optimizer: sgd, Learning rate: 0.001, Loss function: cross-entropy\n",
            "INFO: Epoch 1/10 completed | Training Loss: 2.3024, Test Accuracy: 0.0000\n",
            "INFO: Epoch 2/10 completed | Training Loss: 2.3018, Test Accuracy: 0.0000\n",
            "INFO: Epoch 3/10 completed | Training Loss: 2.3005, Test Accuracy: 0.0000\n",
            "INFO: Epoch 4/10 completed | Training Loss: 2.2925, Test Accuracy: 0.0067\n",
            "INFO: Epoch 5/10 completed | Training Loss: 2.2567, Test Accuracy: 0.1479\n",
            "INFO: Epoch 6/10 completed | Training Loss: 2.1499, Test Accuracy: 0.3114\n",
            "INFO: Epoch 7/10 completed | Training Loss: 2.0814, Test Accuracy: 0.3685\n",
            "INFO: Epoch 8/10 completed | Training Loss: 2.0451, Test Accuracy: 0.4102\n",
            "INFO: Epoch 9/10 completed | Training Loss: 2.0130, Test Accuracy: 0.4370\n",
            "INFO: Epoch 10/10 completed | Training Loss: 1.9872, Test Accuracy: 0.4687\n",
            "INFO: Directory 'runs' has been created successfully.\n",
            "INFO: Model saved successfully as alexnet at runs\n",
            "INFO: Training finished, GPU memory cache cleared\n"
          ]
        }
      ]
    },
    {
      "cell_type": "code",
      "source": [
        "# Test the AlexNet model\n",
        "accuracy = alexnet.test(params      = CONFIG_PARAMS,\n",
        "                        weightsPath = weightsPath)\n",
        "\n",
        "print(accuracy)"
      ],
      "metadata": {
        "colab": {
          "base_uri": "https://localhost:8080/"
        },
        "id": "5FNuACq6W8Bv",
        "outputId": "2c69120b-c42f-42ae-cdd6-d538b67ce199"
      },
      "execution_count": 3,
      "outputs": [
        {
          "output_type": "stream",
          "name": "stdout",
          "text": [
            "INFO: \n",
            "========== TESTING ==========\n",
            "\n",
            "INFO: Using provided parameters directly.\n",
            "INFO: Using device: cuda\n",
            "INFO: Test configuration | Model Weights: runs/alexnet-20241022-042509.pt | Dataset: cifar10 | Batch size: 16\n",
            "Files already downloaded and verified\n",
            "Files already downloaded and verified\n",
            "INFO: Dataset cifar10 loaded with 10000 test samples\n",
            "INFO: Test dataloader created with batch size: 16\n",
            "INFO: Using provided parameters directly.\n",
            "INFO: Model loaded successfully from runs/alexnet-20241022-042509.pt\n",
            "INFO: Model set to evaluation mode\n",
            "INFO: Testing complete. Final accuracy: 0.4687\n",
            "0.4687\n"
          ]
        }
      ]
    },
    {
      "cell_type": "code",
      "source": [
        "!wget https://thumb.photo-ac.com/c5/c5b5e68782f3aeb4bee1ad6ff67701c5_t.jpeg"
      ],
      "metadata": {
        "colab": {
          "base_uri": "https://localhost:8080/"
        },
        "id": "mfDSqrpviptY",
        "outputId": "030c9885-7be2-48c9-98eb-a9dfb2c595c2"
      },
      "execution_count": 4,
      "outputs": [
        {
          "output_type": "stream",
          "name": "stdout",
          "text": [
            "--2024-10-22 04:45:44--  https://thumb.photo-ac.com/c5/c5b5e68782f3aeb4bee1ad6ff67701c5_t.jpeg\n",
            "Resolving thumb.photo-ac.com (thumb.photo-ac.com)... 3.165.102.74, 3.165.102.65, 3.165.102.113, ...\n",
            "Connecting to thumb.photo-ac.com (thumb.photo-ac.com)|3.165.102.74|:443... connected.\n",
            "HTTP request sent, awaiting response... 200 OK\n",
            "Length: 18122 (18K) [image/jpeg]\n",
            "Saving to: ‘c5b5e68782f3aeb4bee1ad6ff67701c5_t.jpeg’\n",
            "\n",
            "c5b5e68782f3aeb4bee 100%[===================>]  17.70K  --.-KB/s    in 0.07s   \n",
            "\n",
            "2024-10-22 04:45:45 (259 KB/s) - ‘c5b5e68782f3aeb4bee1ad6ff67701c5_t.jpeg’ saved [18122/18122]\n",
            "\n"
          ]
        }
      ]
    },
    {
      "cell_type": "code",
      "source": [
        "# Import alexnet library previously installed\n",
        "import alexnet\n",
        "from PIL import Image\n",
        "\n",
        "# Constat with an image to perform the testing\n",
        "IMG_PATH = '/content/c5b5e68782f3aeb4bee1ad6ff67701c5_t.jpeg'\n",
        "image = Image.open(IMG_PATH)\n",
        "\n",
        "# Getting the main device to perform inference `gpu` by defult.\n",
        "# Load model the trained model and image\n",
        "\n",
        "DEVICE = alexnet.utils.getDevice()\n",
        "model = alexnet.utils.loadModel(weightsPath = weightsPath,\n",
        "                                params      = CONFIG_PARAMS,\n",
        "                                device      = DEVICE)\n",
        "\n",
        "\n",
        "# Perform inference (preprocessing and prediction)\n",
        "results = alexnet.inference(image, model, DEVICE)\n",
        "\n",
        "cifar10_labels = ['airplane', 'automobile', 'bird', 'cat', 'deer',\n",
        "                  'dog', 'frog', 'horse', 'ship', 'truck']\n",
        "\n",
        "print('output prediction:',cifar10_labels[results])"
      ],
      "metadata": {
        "colab": {
          "base_uri": "https://localhost:8080/"
        },
        "id": "ei30lylOi6bR",
        "outputId": "4829d3a3-1211-4f97-85fe-252f2cc9e993"
      },
      "execution_count": 12,
      "outputs": [
        {
          "output_type": "stream",
          "name": "stdout",
          "text": [
            "INFO: Using provided parameters directly.\n",
            "INFO: \n",
            "========== INFERENCE ==========\n",
            "\n",
            "INFO: Using device: cuda\n",
            "INFO: Step 1: Preprocessing input data\n",
            "INFO: Step 2: Performing prediction\n",
            "INFO: Prediction result: 3\n",
            "output prediction: cat\n"
          ]
        }
      ]
    }
  ]
}